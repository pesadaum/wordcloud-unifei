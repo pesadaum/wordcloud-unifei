{
 "cells": [
  {
   "cell_type": "markdown",
   "id": "8620fa7b",
   "metadata": {},
   "source": [
    "# Bibliotecas\n",
    "\n",
    "Só o básico\n",
    "\n",
    "> Usando nltk para filtrar palavras irrelevantes e posteriormente usar o módulo `profanity_filter` pra remover potenciais palavrões :P"
   ]
  },
  {
   "cell_type": "code",
   "execution_count": null,
   "id": "c43047d5",
   "metadata": {},
   "outputs": [],
   "source": [
    "%pip install -r requirements.txt"
   ]
  },
  {
   "cell_type": "code",
   "execution_count": 32,
   "id": "dfc7bb2a",
   "metadata": {
    "collapsed": true
   },
   "outputs": [
    {
     "name": "stderr",
     "output_type": "stream",
     "text": [
      "[nltk_data] Downloading package stopwords to\n",
      "[nltk_data]     /home/pesadaum/nltk_data...\n",
      "[nltk_data]   Package stopwords is already up-to-date!\n"
     ]
    },
    {
     "data": {
      "text/plain": [
       "True"
      ]
     },
     "execution_count": 32,
     "metadata": {},
     "output_type": "execute_result"
    }
   ],
   "source": [
    "import numpy as np\n",
    "import matplotlib.pyplot as plt\n",
    "import nltk\n",
    "from PIL import Image\n",
    "from scipy.ndimage import gaussian_gradient_magnitude\n",
    "from wordcloud import WordCloud, ImageColorGenerator\n",
    "# from profanity_filter import ProfanityFilter\n",
    "\n",
    "nltk.download('stopwords')"
   ]
  },
  {
   "cell_type": "markdown",
   "id": "8b5d796b",
   "metadata": {},
   "source": [
    "# Lendo o texto\n",
    "\n",
    "Por hora é uma história aleatória, depois o texto vai ser coletado via forms"
   ]
  },
  {
   "cell_type": "code",
   "execution_count": 41,
   "id": "2fce8b44",
   "metadata": {
    "collapsed": true
   },
   "outputs": [
    {
     "data": {
      "text/plain": [
       "(77840, 383)"
      ]
     },
     "execution_count": 41,
     "metadata": {},
     "output_type": "execute_result"
    }
   ],
   "source": [
    "with open('./data/text.txt') as f:\n",
    "  raw_text = f.readlines()\n",
    "  text = ' '.join([str(i) for i in raw_text]).replace('\\n', '')\n",
    "\n",
    "stops = nltk.corpus.stopwords.words('portuguese')\n",
    "stops += nltk.corpus.stopwords.words('english')\n",
    "\n",
    "len(text), len(stops)"
   ]
  },
  {
   "cell_type": "markdown",
   "id": "13efdddb",
   "metadata": {},
   "source": [
    "# Lendo a imagem\n",
    "\n",
    "Não é nenhuma mágica (até agora), é só ler a imagem e transformar num array numpy com formato ou *shape* (x, y, 3). Qualquer função de ler imagem serve.\n",
    "\n",
    "A linha seguinte (`img = img[::3,::3]`) reduz a qualidade da imagem, é útil pra fazer o código rodar mais rápido."
   ]
  },
  {
   "cell_type": "code",
   "execution_count": 34,
   "id": "fb9f44cc",
   "metadata": {
    "collapsed": true
   },
   "outputs": [],
   "source": [
    "img = np.array(Image.open('./img_in/unifei_logo.png'))\n",
    "# img = img[::3,::3]"
   ]
  },
  {
   "cell_type": "markdown",
   "id": "adcddd3c",
   "metadata": {},
   "source": [
    "# Processando as bordas\n",
    "\n",
    "Usando a média do gradiente de Gauss dá pra filtrar a imagem legal e usar o realce das bordas como os eixos para as trocas de cor. A função pode parecer meio maluca à primeira vista. E é mesmo. Vamos ao passo a passo:\n",
    "\n",
    "1. Normaliza as componentes de cor da imagem para cada canal de cor RGB (aquela parte que divide por 255 e fala `for i in range(3)` que é pra cada canal de cor)\n",
    "2. Tira a média do resultado e joga na variável `edges` para que o resultado esteja entre 0 e 1\n",
    "3. Copia os valores de cor da imagem pra variável `img_mask`\n",
    "4. Se para cada valor de `edges` for maior que o gatilho escolhido (`mask_threshold`), a imagem terá cor. Caso contrário, não terá.\n"
   ]
  },
  {
   "cell_type": "code",
   "execution_count": 35,
   "id": "06b4c073",
   "metadata": {
    "collapsed": true
   },
   "outputs": [],
   "source": [
    "gradient =  [gaussian_gradient_magnitude(img[:, :, i] / 255., sigma=1) for i in range(3)]\n",
    "edges = np.mean(gradient, axis=0)\n",
    "\n",
    "mask_thresh = 0.008\n",
    "img_mask = img.copy()\n",
    "img_mask[img_mask.sum(axis=2) == 0] = 255\n",
    "img_mask[edges > mask_thresh] = 255"
   ]
  },
  {
   "cell_type": "markdown",
   "id": "acd17094",
   "metadata": {},
   "source": [
    "# Gerando o WordCloud\n",
    "\n",
    "Processar a imagem tá praticamente feito, agora basta gerar a nuvem. Algumas considerações:\n",
    "\n",
    "- rel_scaling: não fez diferença evidente trocar para 0 ou para 1\n",
    "- max_words: com umas 2000 palavras já dá um resultado aceitável, dá pra usar o comprimento (em caracteres) do próprio texto pra deixar esse valor no automático\n",
    "  * 5000 palavras demora uns 3m então melhor ir com cuidado \n",
    "- font: só especificar o caminho da fonte pro arquivo `.ttf`\n",
    "- scale: aumenta a escala da imagem. Por padrão e 1 e produz uma imagem de $1000 \\times 1000$. Aumentar a escala também melhora a qualidade (e o tamanho do png)"
   ]
  },
  {
   "cell_type": "code",
   "execution_count": 36,
   "id": "477d8c52",
   "metadata": {
    "collapsed": true
   },
   "outputs": [
    {
     "data": {
      "text/plain": [
       "<wordcloud.wordcloud.WordCloud at 0x7f5ac2f67d30>"
      ]
     },
     "execution_count": 36,
     "metadata": {},
     "output_type": "execute_result"
    }
   ],
   "source": [
    "rel_scaling = 1 \n",
    "max_words = 5000\n",
    "font = './Exo_2/Exo2-VariableFont_wght.ttf'\n",
    "scale = 5\n",
    "\n",
    "wc = WordCloud(\n",
    "    mask=img_mask, \n",
    "    max_words=max_words,\n",
    "    font_path=font,\n",
    "    stopwords=stops,\n",
    "    scale=scale,\n",
    "    mode=\"RGBA\",\n",
    "    background_color=None,\n",
    "    max_font_size=120,\n",
    "    random_state=2,\n",
    "    relative_scaling='auto',\n",
    "    min_font_size=1, \n",
    "    repeat=True,\n",
    "    colormap='gray')\n",
    "\n",
    "wc.generate(text)"
   ]
  },
  {
   "cell_type": "markdown",
   "id": "8423c7fd",
   "metadata": {},
   "source": [
    "# Colorindo o WordCloud\n",
    "\n",
    "Por padrão, a saída do wordcloud é binária (com cor, sem cor, <strike>cor sim cor não</strike>) então usamos uma função mão na roda que extrai as cores sem muito mistério"
   ]
  },
  {
   "cell_type": "code",
   "execution_count": 37,
   "id": "9034d101",
   "metadata": {
    "collapsed": true
   },
   "outputs": [
    {
     "data": {
      "text/plain": [
       "<wordcloud.wordcloud.WordCloud at 0x7f5ac2f67d30>"
      ]
     },
     "execution_count": 37,
     "metadata": {},
     "output_type": "execute_result"
    }
   ],
   "source": [
    "image_colors = ImageColorGenerator(img)\n",
    "wc.recolor(color_func=image_colors)"
   ]
  },
  {
   "cell_type": "markdown",
   "id": "6910556d",
   "metadata": {},
   "source": [
    "# Salvando o arquivo\n",
    "\n",
    "Falta só salvar o arquivo agora. O PNG tem uma qualidade suficientemente boa mas como esse pessoal que faz o kit é maluco podemos salvar em SVG também. \n",
    "\n",
    "- Para salvar em PNG é só usar a função do próprio módulo `to_file('nome_do_arquivo.png')`. Essa função não suporta SVG nativamente, então a gente usa gambiarra:\n",
    "- Para salvar em SVG a gente usa a função de converter pra PNG (que retorna uma string) e grava essa string num arquivo. Voillá! Temos um Wordcloud!"
   ]
  },
  {
   "cell_type": "code",
   "execution_count": 38,
   "id": "b0b624b2",
   "metadata": {
    "collapsed": true
   },
   "outputs": [
    {
     "data": {
      "text/plain": [
       "<wordcloud.wordcloud.WordCloud at 0x7f5ac2f67d30>"
      ]
     },
     "execution_count": 38,
     "metadata": {},
     "output_type": "execute_result"
    }
   ],
   "source": [
    "wc.to_file(\"./img_out/wc.png\")"
   ]
  },
  {
   "cell_type": "code",
   "execution_count": 39,
   "id": "38266500",
   "metadata": {},
   "outputs": [],
   "source": [
    "wc_svg = wc.to_svg(embed_font=True)\n",
    "with open('./img_out/wc.svg', 'w') as f:\n",
    "    f.write(wc_svg)"
   ]
  }
 ],
 "metadata": {
  "interpreter": {
   "hash": "916dbcbb3f70747c44a77c7bcd40155683ae19c65e1c03b4aa3499c5328201f1"
  },
  "kernelspec": {
   "display_name": "Python 3 (ipykernel)",
   "language": "python",
   "name": "python3"
  },
  "language_info": {
   "codemirror_mode": {
    "name": "ipython",
    "version": 3
   },
   "file_extension": ".py",
   "mimetype": "text/x-python",
   "name": "python",
   "nbconvert_exporter": "python",
   "pygments_lexer": "ipython3",
   "version": "3.8.10"
  }
 },
 "nbformat": 4,
 "nbformat_minor": 5
}
